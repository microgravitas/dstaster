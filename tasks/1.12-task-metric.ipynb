{
 "cells": [
  {
   "cell_type": "code",
   "execution_count": 1,
   "metadata": {},
   "outputs": [],
   "source": [
    "from dstaster import *"
   ]
  },
  {
   "cell_type": "markdown",
   "metadata": {},
   "source": [
    "<h2>Visualizing metrics</h2>\n",
    "\n",
    "A useful way to understand different metrics is to look at their <i>unit circles</i>: the set of all points that lie at distance one from the origin. For the euclidean distance, this is simply a circle of radius one&mdash;but for other metrics, the unit &lsquo;circle&rsquo; takes on a different shape.\n",
    "\n",
    "In the plot below we measure the distance from the gray disks to the origin (marked green). The disks that are at distance one are coloured pink, those that are almost at distance one blue and the ones that have a distance much larger or much smaller than one are kept gray.\n",
    "\n",
    "<div class=\"task\">\n",
    "    <div class=\"no\">1</div>\n",
    "    <div class=\"text\">\n",
    "        Use the interactive plot below to investigate how the different unit circles of the four different metrics look like.\n",
    "    </div>\n",
    "</div>\n"
   ]
  },
  {
   "cell_type": "code",
   "execution_count": 2,
   "metadata": {
    "hidden": true,
    "scrolled": false
   },
   "outputs": [
    {
     "data": {
      "application/vnd.jupyter.widget-view+json": {
       "model_id": "ea662458ec934ce6b9770dd1d3124f02",
       "version_major": 2,
       "version_minor": 0
      },
      "text/plain": [
       "interactive(children=(RadioButtons(description='Metrics', layout=Layout(width='60%'), options=('Euclidean', 'M…"
      ]
     },
     "metadata": {},
     "output_type": "display_data"
    }
   ],
   "source": [
    "def vis_metric(metric):\n",
    "    xs, ys = [], []\n",
    "    for y in range(40):\n",
    "        for i in range(40):\n",
    "            ys.append(y)\n",
    "            if y % 2 == 1:\n",
    "                x = i + .5\n",
    "            else:\n",
    "                x = i\n",
    "            xs.append(x)\n",
    "\n",
    "    xs = np.array(xs) / 10 - 2\n",
    "    ys = np.array(ys) / 10 - 2\n",
    "\n",
    "    if metric == 'Euclidean':\n",
    "        dist = np.sqrt(xs**2 + ys**2)\n",
    "    elif metric == 'Manhattan':\n",
    "        dist = np.abs(xs)+np.abs(ys)\n",
    "    elif metric == 'Hamming':\n",
    "        dist = 1*(xs != 0) + 1*(ys != 0)\n",
    "    elif metric == 'Chebyshev':\n",
    "        dist = np.max(np.abs(np.dstack([xs,ys])), axis=2)[0]\n",
    "    cols = cmap_distance(dist/2)\n",
    "\n",
    "    fig, ax = plt.subplots(dpi=300, figsize=(4.5,4.5))\n",
    "    ax.spines['top'].set_visible(False)\n",
    "    ax.spines['right'].set_visible(False)\n",
    "    ax.spines['left'].set_bounds(-1.5,1.5)\n",
    "    ax.spines['bottom'].set_bounds(-1.5,1.5)\n",
    "    ax.set_xticks(np.arange(-1.5, 1.51, 0.5))\n",
    "    ax.set_yticks(np.arange(-1.5, 1.51, 0.5))\n",
    "\n",
    "    ax.scatter(xs, ys, s=20, c=cols)\n",
    "\n",
    "config = {\n",
    "    'options': ['Euclidean', 'Manhattan', 'Hamming', 'Chebyshev'],\n",
    "    'value': 'Euclidean',\n",
    "    'description': 'Metrics'\n",
    "}\n",
    "\n",
    "layout = {\n",
    "    'width': '60%',\n",
    "}\n",
    "\n",
    "choice = widgets.RadioButtons(**config,layout=layout)\n",
    "\n",
    "interact(vis_metric, metric=choice)\n",
    "pass"
   ]
  },
  {
   "cell_type": "markdown",
   "metadata": {},
   "source": [
    "A common use of metrics is to group or partition data points according to their distance to a few selected points often called <b>centres</b>. As you can imagined from the previous example, the choice of metrics has an influence of how this partition looks like, in particular for those data points that are close to more than one centre.\n",
    "\n",
    "In the output below, you should see five points marked with <b>X</b>s, these are our centres. The circles around them are our data and we assign each circle to the centre it is closest to according to the selected metric. The partition is indicted by the colour of the circles.\n",
    "\n",
    "<div class=\"task\">\n",
    "    <div class=\"no\">2</div>\n",
    "    <div class=\"text\">\n",
    "        Use the interactive plot below to investigate how the different metrics influence the partition of the data.\n",
    "    </div>\n",
    "</div>\n"
   ]
  },
  {
   "cell_type": "code",
   "execution_count": 3,
   "metadata": {
    "hidden": "true"
   },
   "outputs": [
    {
     "data": {
      "application/vnd.jupyter.widget-view+json": {
       "model_id": "a08376a83197439a87839b8296dc8a4f",
       "version_major": 2,
       "version_minor": 0
      },
      "text/plain": [
       "interactive(children=(RadioButtons(description='Metrics', layout=Layout(width='60%'), options=('Euclidean', 'M…"
      ]
     },
     "metadata": {},
     "output_type": "display_data"
    }
   ],
   "source": [
    "import random\n",
    "xs, ys = [], []\n",
    "\n",
    "random.seed(42)\n",
    "\n",
    "centroids = [(0,0), (1,4), (-3,1),(-2,-4),(4,0)]\n",
    "\n",
    "xs, ys = [], []\n",
    "for y in range(40):\n",
    "    for i in range(40):\n",
    "        ys.append(y)\n",
    "        if y % 2 == 1:\n",
    "            x = i + .5\n",
    "        else:\n",
    "            x = i\n",
    "        xs.append(x)\n",
    "    \n",
    "xs = np.array(xs)/4 - 5 \n",
    "ys = np.array(ys)/4 - 5\n",
    "cxs = np.array([x for x,_ in centroids])\n",
    "cys = np.array([y for _,y in centroids])\n",
    "\n",
    "ccols = np.array([colors[n] for n in ['blue', 'green', 'yellow', 'purple','pink']])\n",
    "\n",
    "def vis_metric(metric):\n",
    "    dists = []\n",
    "    for x,y in centroids:\n",
    "        if metric == 'Euclidean':\n",
    "            dist = np.sqrt((xs-x)**2 + (ys-y)**2)\n",
    "        elif metric == 'Manhattan':\n",
    "            dist = np.abs(xs-x)+np.abs(ys-y)\n",
    "        elif metric == 'Chebyshev':\n",
    "            dist = np.max(np.abs(np.dstack([xs-x,ys-y])), axis=2)[0] \n",
    "        dists.append(dist)\n",
    "\n",
    "    cols = np.argmin(np.stack(dists), axis=0)\n",
    "    \n",
    "    fig, ax = plt.subplots(dpi=300, figsize=(4.5,4.5))\n",
    "    ax.spines['top'].set_visible(False)\n",
    "    ax.spines['right'].set_visible(False)\n",
    "    ax.spines['left'].set_bounds(-4,4)\n",
    "    ax.spines['bottom'].set_bounds(-4,4)\n",
    "    ax.set_xticks(np.arange(-4, 4.01, 1))\n",
    "    ax.set_yticks(np.arange(-4, 4.01, 1))                                   \n",
    "                                   \n",
    "\n",
    "    ax.scatter(xs, ys, s=20, c=ccols[cols])\n",
    "    ax.scatter(cxs, cys, c=ccols, s=120, marker='X', lw=1, ec='black')\n",
    "    ax.axis('equal')\n",
    "\n",
    "config = {\n",
    "    'options': ['Euclidean', 'Manhattan', 'Chebyshev'],\n",
    "    'value': 'Euclidean',\n",
    "    'description': 'Metrics'\n",
    "}\n",
    "\n",
    "layout = {\n",
    "    'width': '60%',\n",
    "}\n",
    "\n",
    "choice = widgets.RadioButtons(**config,layout=layout)\n",
    "\n",
    "interact(vis_metric, metric=choice)\n",
    "pass"
   ]
  }
 ],
 "metadata": {
  "kernelspec": {
   "display_name": "Python 3",
   "language": "python",
   "name": "python3"
  },
  "language_info": {
   "codemirror_mode": {
    "name": "ipython",
    "version": 3
   },
   "file_extension": ".py",
   "mimetype": "text/x-python",
   "name": "python",
   "nbconvert_exporter": "python",
   "pygments_lexer": "ipython3",
   "version": "3.7.9"
  },
  "latex_envs": {
   "LaTeX_envs_menu_present": true,
   "autoclose": false,
   "autocomplete": true,
   "bibliofile": "biblio.bib",
   "cite_by": "apalike",
   "current_citInitial": 1,
   "eqLabelWithNumbers": true,
   "eqNumInitial": 1,
   "hotkeys": {
    "equation": "Ctrl-E",
    "itemize": "Ctrl-I"
   },
   "labels_anchors": false,
   "latex_user_defs": false,
   "report_style_numbering": false,
   "user_envs_cfg": false
  }
 },
 "nbformat": 4,
 "nbformat_minor": 4
}

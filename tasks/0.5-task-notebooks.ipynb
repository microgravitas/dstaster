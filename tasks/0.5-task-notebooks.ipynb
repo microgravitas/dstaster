{
 "cells": [
  {
   "cell_type": "markdown",
   "metadata": {},
   "source": [
    "# Your first notebook\n",
    "\n",
    "Welcome to this Jupyter notebook! This course will rely heavily on notebooks,\n",
    "so let's make ourselves familiar with it. \n",
    "\n",
    "A notebook is organized in cells which can either contain text (like this one)\n",
    "written in [markdown](https://www.markdownguide.org/basic-syntax/) and html; \n",
    "or it can contain Python code. The selected cell is highlighted with a blue or green border, that is the cell\n",
    "you are currently working on.\n",
    "You can recognized code cells by the blue <code style=\"color:blue\">In [...]</code> on the left hand side and the gray background color.\n",
    "\n",
    "\n",
    "Text cells support headlines, **bold text**, _italics_, [hyperlinks](https://www.youtube.com/watch?v=dQw4w9WgXcQ), and many other things. We use text cells to provide you with additional\n",
    "information about what you should do with the notebook. For data analysis, notebooks help because\n",
    "they enable use to visualize our results (more on that later) and describe what we are doing to\n",
    "the reader.\n",
    "\n",
    "\n",
    "Both code cells and text cells can be edited: code cells by clicking on them, text cells\n",
    "by double-clicking on them.\n",
    "\n",
    "<div class=\"task\">\n",
    "    <div class=\"no\">1</div>\n",
    "    <div>\n",
    "    Try double-clicking on this cell to see the markdown code! When you are done, either \n",
    "        press <code>Shift+Enter</code> or click the <code><i class=\"fa-step-forward fa\"></i>&nbsp;Run</code> button in the toolbar to convert the markdown/html\n",
    "back into nicely formatted text.\n",
    "    </div>\n",
    "</div>\n"
   ]
  },
  {
   "cell_type": "markdown",
   "metadata": {},
   "source": [
    "A **code cell** can also be run: Jupyter will execute the Python code written in it! If we\n",
    "use `print()`, the result is display below the cell after execution.\n",
    "\n",
    "\n",
    "<div class=\"task\">\n",
    "    <div class=\"no\">2</div>\n",
    "    <div>\n",
    "     Click on the cell below and run it by either pressing <code>Shift+Enter</code> or by clicking the <code><i class=\"fa-step-forward fa\"></i>&nbsp;Run</code> button in the toolbar\n",
    "    </div>\n",
    "</div>"
   ]
  },
  {
   "cell_type": "code",
   "execution_count": 14,
   "metadata": {},
   "outputs": [
    {
     "name": "stdout",
     "output_type": "stream",
     "text": [
      "Hello world!\n"
     ]
    }
   ],
   "source": [
    "print(\"Hello world!\")"
   ]
  },
  {
   "cell_type": "markdown",
   "metadata": {},
   "source": [
    "In contrast to normal programs, notebooks do not have to be run from top to bottom. In fact, every time you run a code cell, the state of the notebook (what the different variables contain) is updated. If this sounds confusing, don't worry, it is quite intuitive to understand. Let's try it for ourselves! In the following code cell, we define a variable `x` and assign to it the value `99`. **Run the code cell A below to execute it**."
   ]
  },
  {
   "cell_type": "code",
   "execution_count": 12,
   "metadata": {},
   "outputs": [],
   "source": [
    "# Code cell A\n",
    "x = 99"
   ]
  },
  {
   "cell_type": "markdown",
   "metadata": {},
   "source": [
    "Now the variable `x` exists in this notebook and, if you only ran code cell A so far, it will contain the value 99. We can check the value of `x` using the `print` function: **run the code cell B below to print the value of** `x`."
   ]
  },
  {
   "cell_type": "code",
   "execution_count": 17,
   "metadata": {},
   "outputs": [
    {
     "name": "stdout",
     "output_type": "stream",
     "text": [
      "98\n"
     ]
    }
   ],
   "source": [
    "# Code cell B\n",
    "print(x)"
   ]
  },
  {
   "cell_type": "markdown",
   "metadata": {},
   "source": [
    "But of course we can also modify `x`! When you **execute the cell C below, it will subtract one from the current value of** `x`."
   ]
  },
  {
   "cell_type": "code",
   "execution_count": 16,
   "metadata": {},
   "outputs": [],
   "source": [
    "# Code cell C\n",
    "x = x - 1"
   ]
  },
  {
   "cell_type": "markdown",
   "metadata": {},
   "source": [
    "<div class=\"task\">\n",
    "    <div class=\"no\">3</div>\n",
    "    <div>\n",
    "        Run code cell B a few times and the run code cell B. What do you observe?\n",
    "        Try running code cell A again and then B. What happens? Return to FutureLearn page\n",
    "        and discuss your findings!\n",
    "    </div>\n",
    "</div>"
   ]
  }
 ],
 "metadata": {
  "kernelspec": {
   "display_name": "Python 3",
   "language": "python",
   "name": "python3"
  },
  "language_info": {
   "codemirror_mode": {
    "name": "ipython",
    "version": 3
   },
   "file_extension": ".py",
   "mimetype": "text/x-python",
   "name": "python",
   "nbconvert_exporter": "python",
   "pygments_lexer": "ipython3",
   "version": "3.7.9"
  }
 },
 "nbformat": 4,
 "nbformat_minor": 4
}

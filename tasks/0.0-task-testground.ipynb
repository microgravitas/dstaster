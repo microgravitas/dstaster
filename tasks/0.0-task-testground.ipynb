{
 "cells": [
  {
   "cell_type": "code",
   "execution_count": 6,
   "metadata": {},
   "outputs": [],
   "source": [
    "from dstaster import *"
   ]
  },
  {
   "cell_type": "code",
   "execution_count": 9,
   "metadata": {
    "hidden": true,
    "scrolled": true
   },
   "outputs": [
    {
     "name": "stdout",
     "output_type": "stream",
     "text": [
      "Test\n",
      "Yes\n"
     ]
    }
   ],
   "source": [
    "print(\"Test\")\n",
    "\n",
    "\n",
    "\n",
    "\n",
    "\n",
    "\n",
    "\n",
    "\n",
    "print(\"Yes\")"
   ]
  },
  {
   "cell_type": "code",
   "execution_count": 11,
   "metadata": {
    "scrolled": false
   },
   "outputs": [
    {
     "name": "stdout",
     "output_type": "stream",
     "text": [
      "This output should be visible\n"
     ]
    },
    {
     "data": {
      "text/html": [
       "\n",
       "        <div class=\"error\">\n",
       "            <div class=\"title\"><b>Error:</b> Something went wrong</div>\n",
       "            <div class=\"msg\">Here is an idea of how to fix it</div>\n",
       "        </div>\n",
       "    "
      ],
      "text/plain": [
       "<IPython.core.display.HTML object>"
      ]
     },
     "metadata": {},
     "output_type": "display_data"
    }
   ],
   "source": [
    "print(\"This output should be visible\")\n",
    "error(\"Something went wrong\",\n",
    "      \"Here is an idea of how to fix it\")\n",
    "\n",
    "print(\"This output should not be visible\")"
   ]
  },
  {
   "cell_type": "markdown",
   "metadata": {},
   "source": [
    "This is a normal paragraph.\n",
    "\n",
    "<div class=\"note\">This is side note that provides some background information that might not be interesting to everyone.</div>\n",
    "\n",
    "<div class=\"task\">\n",
    "    <div class=\"no\">1</div>\n",
    "    <div class=\"text\">\n",
    "        This is a task for our students, explaining what to do\n",
    "        in the following code cell. <br/>\n",
    "        Here is another line. <br/>\n",
    "        And another.\n",
    "    </div>\n",
    "</div>\n",
    "\n",
    "<div class=\"task\">\n",
    "    <div class=\"no\">2</div>\n",
    "    <div class=\"text\">\n",
    "        This is task with a short text.\n",
    "    </div>\n",
    "</div>\n",
    " \n",
    " \n",
    "<div class=\"task\">\n",
    "    <div class=\"no\">12</div>\n",
    "    <div class=\"text\">\n",
    "        This is task with a short text.\n",
    "    </div>\n",
    "</div>\n",
    "\n",
    "<ol class=\"hints\">\n",
    "    <li>\n",
    "        <div>This is a first hint. <br/> It has two lines.\n",
    "        </div>\n",
    "    </li>\n",
    "    <li>\n",
    "        <div>This is a second hint. </div>\n",
    "    </li>\n",
    "    <li>\n",
    "        <div>This is a third hint. </div>\n",
    "    </li>\n",
    "</ol>"
   ]
  },
  {
   "cell_type": "markdown",
   "metadata": {},
   "source": [
    "<ol class=\"hints\">\n",
    "    <li>\n",
    "        <div>This is a first hint. <br/> It has two lines.\n",
    "        </div>\n",
    "    </li>\n",
    "    <li>\n",
    "        <div>This is a second hint. </div>\n",
    "    </li>\n",
    "    <li>\n",
    "        <div>This is a third hint. </div>\n",
    "    </li>\n",
    "</ol>"
   ]
  },
  {
   "cell_type": "code",
   "execution_count": null,
   "metadata": {},
   "outputs": [],
   "source": []
  }
 ],
 "metadata": {
  "kernelspec": {
   "display_name": "Python 3",
   "language": "python",
   "name": "python3"
  },
  "language_info": {
   "codemirror_mode": {
    "name": "ipython",
    "version": 3
   },
   "file_extension": ".py",
   "mimetype": "text/x-python",
   "name": "python",
   "nbconvert_exporter": "python",
   "pygments_lexer": "ipython3",
   "version": "3.7.9"
  },
  "latex_envs": {
   "LaTeX_envs_menu_present": true,
   "autoclose": false,
   "autocomplete": true,
   "bibliofile": "biblio.bib",
   "cite_by": "apalike",
   "current_citInitial": 1,
   "eqLabelWithNumbers": true,
   "eqNumInitial": 1,
   "hotkeys": {
    "equation": "Ctrl-E",
    "itemize": "Ctrl-I"
   },
   "labels_anchors": false,
   "latex_user_defs": false,
   "report_style_numbering": false,
   "user_envs_cfg": false
  }
 },
 "nbformat": 4,
 "nbformat_minor": 4
}
